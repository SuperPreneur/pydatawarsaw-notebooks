{
 "cells": [
  {
   "cell_type": "markdown",
   "metadata": {
    "slideshow": {
     "slide_type": "slide"
    }
   },
   "source": [
    "# 10 things you really should know about jupyter notebooks\n",
    "\n",
    "<img src=\"resources/pics/pydata.png\" width=\"600\">"
   ]
  },
  {
   "cell_type": "markdown",
   "metadata": {
    "slideshow": {
     "slide_type": "slide"
    }
   },
   "source": [
    "# Who am I, who are we, why notebooks, where can I get some coffee\n",
    "\n"
   ]
  },
  {
   "cell_type": "markdown",
   "metadata": {
    "slideshow": {
     "slide_type": "subslide"
    }
   },
   "source": [
    "<img src=\"resources/pics/pexels-photo-321552.jpeg\" alt=\"Drawing\" style=\"width: 200px;\"/>\n",
    "\n",
    "\n",
    "## Jakub Czakon \n",
    "*jakub.czakon@deepsense.ai* \n",
    "\n",
    "*https://github.com/jakubczakon*\n",
    "\n",
    "## I do:\n",
    "### - deep learning\n",
    "### - machine learning\n",
    "### - presentations"
   ]
  },
  {
   "cell_type": "markdown",
   "metadata": {
    "slideshow": {
     "slide_type": "subslide"
    }
   },
   "source": [
    "![query](https://deepsense.ai/wp-content/uploads/2017/07/1-300x71.png)\n",
    "\n",
    "## deepsense.ai\n",
    "*contact@deepsense.ai*\n",
    "\n",
    "*https://deepsense.ai/*\n",
    "\n",
    "## We do:\n",
    "### - services\n",
    "### - workshops\n",
    "### - products https://neptune.ml/"
   ]
  },
  {
   "cell_type": "markdown",
   "metadata": {
    "slideshow": {
     "slide_type": "slide"
    }
   },
   "source": [
    "# Agenda\n",
    "* Styling\n",
    "    - Packages\n",
    "    - DIY\n",
    "* Extensions\n",
    "  - Build-in\n",
    "  - Config\n",
    "* Magics\n",
    "  - Build-in\n",
    "  - Packages\n",
    "  - DIY\n",
    "* Interactive Visualizations\n",
    "  - Widgets and interact\n",
    "  - qgrid\n",
    "  - displays\n",
    "  - bokeh\n",
    "* Stuff that I forgot (not really just didn't know where to put them)"
   ]
  },
  {
   "cell_type": "markdown",
   "metadata": {
    "slideshow": {
     "slide_type": "subslide"
    }
   },
   "source": [
    "## Code available at:\n",
    "\n",
    "https://github.com/deepsense-ai/pydatawarsaw-notebooks"
   ]
  },
  {
   "cell_type": "markdown",
   "metadata": {
    "slideshow": {
     "slide_type": "slide"
    }
   },
   "source": [
    "# Styling"
   ]
  },
  {
   "cell_type": "markdown",
   "metadata": {
    "slideshow": {
     "slide_type": "fragment"
    }
   },
   "source": [
    "![query](resources/pics/unstyled_notebook.png)\n"
   ]
  },
  {
   "cell_type": "markdown",
   "metadata": {
    "slideshow": {
     "slide_type": "subslide"
    }
   },
   "source": [
    "![query](resources/pics/styled_notebook.png)"
   ]
  },
  {
   "cell_type": "markdown",
   "metadata": {
    "slideshow": {
     "slide_type": "slide"
    }
   },
   "source": [
    "## Packages\n",
    "\n",
    "### jupyter-themes\n",
    "https://github.com/dunovank/jupyter-themes\n",
    "\n",
    "\n",
    "list themes\n",
    "```bash\n",
    "jt - l\n",
    "```\n",
    "\n",
    "select themes\n",
    "```bash\n",
    "jt - t oceans16 -T\n",
    "```\n",
    "\n",
    "reset\n",
    "```bash\n",
    "jt - r\n",
    "```\n",
    "\n",
    "### jupyter-themer\n",
    "https://github.com/transcranial/jupyter-themer"
   ]
  },
  {
   "cell_type": "markdown",
   "metadata": {
    "slideshow": {
     "slide_type": "slide"
    }
   },
   "source": [
    "1. Here we go\n",
    "    1. Sublist\n",
    "    2. Sublist\n",
    "2. There we go\n",
    "3. Now this"
   ]
  },
  {
   "cell_type": "code",
   "execution_count": null,
   "metadata": {
    "slideshow": {
     "slide_type": "fragment"
    }
   },
   "outputs": [],
   "source": [
    "class CoolClass():\n",
    "    def great_method(self):\n",
    "        return 'happy days'"
   ]
  },
  {
   "cell_type": "markdown",
   "metadata": {
    "slideshow": {
     "slide_type": "slide"
    }
   },
   "source": [
    "## Customize even more"
   ]
  },
  {
   "cell_type": "code",
   "execution_count": null,
   "metadata": {
    "slideshow": {
     "slide_type": "fragment"
    }
   },
   "outputs": [],
   "source": [
    "%pycat ~/.jupyter/custom/custom.css"
   ]
  },
  {
   "cell_type": "code",
   "execution_count": null,
   "metadata": {},
   "outputs": [],
   "source": [
    "!cp resources/deepsensify.css ~/.jupyter/custom/custom.css"
   ]
  },
  {
   "cell_type": "markdown",
   "metadata": {
    "slideshow": {
     "slide_type": "slide"
    }
   },
   "source": [
    "# Extensions"
   ]
  },
  {
   "cell_type": "markdown",
   "metadata": {
    "slideshow": {
     "slide_type": "fragment"
    }
   },
   "source": [
    "## Installation\n",
    "```bash\n",
    "pip install jupyter_contrib_nbextensions\n",
    "jupyter-contrib nbextension install --sys-prefix\n",
    "```"
   ]
  },
  {
   "cell_type": "markdown",
   "metadata": {
    "slideshow": {
     "slide_type": "slide"
    }
   },
   "source": [
    "## Split Cells"
   ]
  },
  {
   "cell_type": "code",
   "execution_count": null,
   "metadata": {
    "cell_style": "split",
    "slideshow": {
     "slide_type": "fragment"
    }
   },
   "outputs": [],
   "source": [
    "for i in range(15):\n",
    "    print('this bug is chilled')"
   ]
  },
  {
   "cell_type": "code",
   "execution_count": null,
   "metadata": {
    "cell_style": "split",
    "slideshow": {
     "slide_type": "fragment"
    }
   },
   "outputs": [],
   "source": [
    "import matplotlib.pyplot as plt\n",
    "img = plt.imread('resources/img_dir/insect.jpg')\n",
    "plt.imshow(img);\n",
    "plt.show();"
   ]
  },
  {
   "cell_type": "markdown",
   "metadata": {
    "slideshow": {
     "slide_type": "slide"
    }
   },
   "source": [
    "## python 2to3 conversion"
   ]
  },
  {
   "cell_type": "code",
   "execution_count": null,
   "metadata": {
    "slideshow": {
     "slide_type": "fragment"
    }
   },
   "outputs": [],
   "source": [
    "from itertools import izip\n",
    "a = range(10)\n",
    "b = 'abcdefghij'\n",
    "for a,b in izip(a,b):\n",
    "    print a,b"
   ]
  },
  {
   "cell_type": "code",
   "execution_count": null,
   "metadata": {
    "slideshow": {
     "slide_type": "fragment"
    }
   },
   "outputs": [],
   "source": [
    "a = list(range(10))\n",
    "b = 'abcdefghij'\n",
    "for a,b in zip(a,b):\n",
    "    print(a,b)"
   ]
  },
  {
   "cell_type": "markdown",
   "metadata": {
    "slideshow": {
     "slide_type": "slide"
    }
   },
   "source": [
    "## Codefolding"
   ]
  },
  {
   "cell_type": "code",
   "execution_count": null,
   "metadata": {
    "code_folding": [
     1,
     3
    ],
    "slideshow": {
     "slide_type": "fragment"
    }
   },
   "outputs": [],
   "source": [
    "class VeryLongClass():\n",
    "    def super_long_method(self):\n",
    "        return\n",
    "    def even_longer_method(self):\n",
    "        return"
   ]
  },
  {
   "cell_type": "markdown",
   "metadata": {
    "slideshow": {
     "slide_type": "slide"
    }
   },
   "source": [
    "## Limit output"
   ]
  },
  {
   "cell_type": "code",
   "execution_count": null,
   "metadata": {
    "slideshow": {
     "slide_type": "fragment"
    }
   },
   "outputs": [],
   "source": [
    "for i in range(25):\n",
    "    print('some stuff')"
   ]
  },
  {
   "cell_type": "markdown",
   "metadata": {
    "slideshow": {
     "slide_type": "slide"
    }
   },
   "source": [
    "## Snippets"
   ]
  },
  {
   "cell_type": "markdown",
   "metadata": {
    "slideshow": {
     "slide_type": "subslide"
    }
   },
   "source": [
    "1. Here we go\n",
    "    1. Sublist\n",
    "    2. Sublist\n",
    "2. There we go* One\n",
    "    - Sublist\n",
    "        - This\n",
    "  - Sublist\n",
    "        - That\n",
    "        - The other thing\n",
    "* Two\n",
    "  - Sublist\n",
    "* Three\n",
    "  - Sublist\n",
    "3. Now this"
   ]
  },
  {
   "cell_type": "code",
   "execution_count": null,
   "metadata": {
    "slideshow": {
     "slide_type": "subslide"
    }
   },
   "outputs": [],
   "source": [
    "class BPSomeClass(object):\n",
    "    r\"\"\"Describe the class\"\"\"\n",
    "    def __init__(self, arg1, arg2):\n",
    "        self.attr1 = arg1\n",
    "        self.attr2 = arg2\n",
    "    \n",
    "    def attribute1(self):\n",
    "        return self.attr1\n",
    "bp_obj = BPSomeClass(\"a\", 2.7182)\n",
    "bp_obj.attribute1()"
   ]
  },
  {
   "cell_type": "markdown",
   "metadata": {
    "slideshow": {
     "slide_type": "slide"
    }
   },
   "source": [
    "## Hiding"
   ]
  },
  {
   "cell_type": "code",
   "execution_count": null,
   "metadata": {
    "hide_input": false,
    "slideshow": {
     "slide_type": "fragment"
    }
   },
   "outputs": [],
   "source": [
    "def some_ugly_code():\n",
    "    def even_uglier_function():\n",
    "        this_does_nothing = 0\n",
    "        this_gets_out = 'output'\n",
    "        return this_gets_out\n",
    "    SOME_CONSTANT = 'amazing'\n",
    "    def _another_weird_function():\n",
    "        x = 'client happy'\n",
    "        return x    \n",
    "    def maker():\n",
    "        return 'makes'\n",
    "    \n",
    "    string = '%s %s that %s %s'%(SOME_CONSTANT, even_uglier_function(),maker(), _another_weird_function()) \n",
    "    return string\n",
    "\n",
    "some_ugly_code()"
   ]
  },
  {
   "cell_type": "markdown",
   "metadata": {
    "slideshow": {
     "slide_type": "slide"
    }
   },
   "source": [
    "## Tree Filter\n",
    "\n",
    "DEMO"
   ]
  },
  {
   "cell_type": "markdown",
   "metadata": {
    "slideshow": {
     "slide_type": "slide"
    }
   },
   "source": [
    "## Slideshow\n",
    "\n",
    "You are watching the DEMO\n",
    "\n",
    "```bash\n",
    "jupyter nbconvert amazing_notebook_presentation.ipynb --to slides --post serve\n",
    "```"
   ]
  },
  {
   "cell_type": "markdown",
   "metadata": {
    "slideshow": {
     "slide_type": "slide"
    }
   },
   "source": [
    "# Magics"
   ]
  },
  {
   "cell_type": "code",
   "execution_count": null,
   "metadata": {
    "slideshow": {
     "slide_type": "subslide"
    }
   },
   "outputs": [],
   "source": [
    "%lsmagic"
   ]
  },
  {
   "cell_type": "markdown",
   "metadata": {
    "slideshow": {
     "slide_type": "slide"
    }
   },
   "source": [
    "## Line Magic %"
   ]
  },
  {
   "cell_type": "markdown",
   "metadata": {
    "slideshow": {
     "slide_type": "slide"
    }
   },
   "source": [
    "### environment"
   ]
  },
  {
   "cell_type": "code",
   "execution_count": null,
   "metadata": {
    "slideshow": {
     "slide_type": "subslide"
    }
   },
   "outputs": [],
   "source": [
    "%env CUDA_DEVICE_ORDER=PCI_BUS_ID\n",
    "%env CUDA_VISIBLE_DEVICES=1"
   ]
  },
  {
   "cell_type": "code",
   "execution_count": null,
   "metadata": {
    "slideshow": {
     "slide_type": "subslide"
    }
   },
   "outputs": [],
   "source": [
    "%colors NoColor"
   ]
  },
  {
   "cell_type": "code",
   "execution_count": null,
   "metadata": {
    "slideshow": {
     "slide_type": "fragment"
    }
   },
   "outputs": [],
   "source": [
    "for b in range(10):\n",
    "    print b"
   ]
  },
  {
   "cell_type": "code",
   "execution_count": null,
   "metadata": {
    "slideshow": {
     "slide_type": "fragment"
    }
   },
   "outputs": [],
   "source": [
    "%colors Linux"
   ]
  },
  {
   "cell_type": "code",
   "execution_count": null,
   "metadata": {
    "slideshow": {
     "slide_type": "fragment"
    }
   },
   "outputs": [],
   "source": [
    "for b in range(10):\n",
    "    print b"
   ]
  },
  {
   "cell_type": "markdown",
   "metadata": {
    "slideshow": {
     "slide_type": "slide"
    }
   },
   "source": [
    "### working with files"
   ]
  },
  {
   "cell_type": "code",
   "execution_count": null,
   "metadata": {
    "slideshow": {
     "slide_type": "subslide"
    }
   },
   "outputs": [],
   "source": [
    "%%writefile resources/pythoncode.py\n",
    "\n",
    "def awesome_code():\n",
    "    \"\"\"Do magic\"\"\"\n",
    "    print('playing with data')\n",
    "    return 'Value'"
   ]
  },
  {
   "cell_type": "code",
   "execution_count": null,
   "metadata": {
    "slideshow": {
     "slide_type": "subslide"
    }
   },
   "outputs": [],
   "source": [
    "%pycat resources/pythoncode.py"
   ]
  },
  {
   "cell_type": "code",
   "execution_count": null,
   "metadata": {
    "slideshow": {
     "slide_type": "subslide"
    }
   },
   "outputs": [],
   "source": [
    "%load resources/pythoncode.py"
   ]
  },
  {
   "cell_type": "code",
   "execution_count": null,
   "metadata": {
    "slideshow": {
     "slide_type": "fragment"
    }
   },
   "outputs": [],
   "source": [
    "# %load resources/pythoncode.py\n",
    "\n",
    "def awesome_code():\n",
    "    \"\"\"Do magic\"\"\"\n",
    "    print('playing with data')\n",
    "    return 'Value'\n",
    "\n",
    "awesome_code()"
   ]
  },
  {
   "cell_type": "code",
   "execution_count": null,
   "metadata": {
    "slideshow": {
     "slide_type": "subslide"
    }
   },
   "outputs": [],
   "source": [
    "%run resources/pythoncode.py"
   ]
  },
  {
   "cell_type": "markdown",
   "metadata": {
    "slideshow": {
     "slide_type": "slide"
    }
   },
   "source": [
    "### debugging"
   ]
  },
  {
   "cell_type": "code",
   "execution_count": null,
   "metadata": {
    "slideshow": {
     "slide_type": "fragment"
    }
   },
   "outputs": [],
   "source": [
    "%%prun\n",
    "awesome_code()"
   ]
  },
  {
   "cell_type": "code",
   "execution_count": null,
   "metadata": {
    "slideshow": {
     "slide_type": "fragment"
    }
   },
   "outputs": [],
   "source": [
    "%pdb\n",
    "awesome_code()"
   ]
  },
  {
   "cell_type": "markdown",
   "metadata": {
    "slideshow": {
     "slide_type": "slide"
    }
   },
   "source": [
    "### share data between notebooks"
   ]
  },
  {
   "cell_type": "code",
   "execution_count": null,
   "metadata": {
    "slideshow": {
     "slide_type": "fragment"
    }
   },
   "outputs": [],
   "source": [
    "import numpy as np\n",
    "\n",
    "table = np.random.random((10,100))"
   ]
  },
  {
   "cell_type": "code",
   "execution_count": null,
   "metadata": {
    "slideshow": {
     "slide_type": "fragment"
    }
   },
   "outputs": [],
   "source": [
    "%store table"
   ]
  },
  {
   "cell_type": "code",
   "execution_count": null,
   "metadata": {
    "slideshow": {
     "slide_type": "fragment"
    }
   },
   "outputs": [],
   "source": [
    "#In other notebook\n",
    "%store -r table"
   ]
  },
  {
   "cell_type": "markdown",
   "metadata": {
    "slideshow": {
     "slide_type": "slide"
    }
   },
   "source": [
    "### timing"
   ]
  },
  {
   "cell_type": "code",
   "execution_count": null,
   "metadata": {
    "slideshow": {
     "slide_type": "fragment"
    }
   },
   "outputs": [],
   "source": [
    "%time print('good timing')"
   ]
  },
  {
   "cell_type": "code",
   "execution_count": null,
   "metadata": {
    "slideshow": {
     "slide_type": "fragment"
    }
   },
   "outputs": [],
   "source": [
    "%%time\n",
    "print('good timing')"
   ]
  },
  {
   "cell_type": "code",
   "execution_count": null,
   "metadata": {
    "slideshow": {
     "slide_type": "fragment"
    }
   },
   "outputs": [],
   "source": [
    "%%timeit -n 5 -r 2\n",
    "print('good timing')"
   ]
  },
  {
   "cell_type": "markdown",
   "metadata": {
    "slideshow": {
     "slide_type": "slide"
    }
   },
   "source": [
    "### other usefull stuff"
   ]
  },
  {
   "cell_type": "code",
   "execution_count": null,
   "metadata": {
    "slideshow": {
     "slide_type": "subslide"
    }
   },
   "outputs": [],
   "source": [
    "%load_ext autoreload\n",
    "%autoreload 2\n",
    "\n",
    "from resources.pythoncode import awesome_code"
   ]
  },
  {
   "cell_type": "code",
   "execution_count": null,
   "metadata": {
    "slideshow": {
     "slide_type": "subslide"
    }
   },
   "outputs": [],
   "source": [
    "%pdoc awesome_code"
   ]
  },
  {
   "cell_type": "code",
   "execution_count": null,
   "metadata": {
    "slideshow": {
     "slide_type": "fragment"
    }
   },
   "outputs": [],
   "source": [
    "?awesome_code"
   ]
  },
  {
   "cell_type": "code",
   "execution_count": null,
   "metadata": {
    "slideshow": {
     "slide_type": "subslide"
    }
   },
   "outputs": [],
   "source": [
    "%matplotlib --list\n",
    "%matplotlib inline"
   ]
  },
  {
   "cell_type": "markdown",
   "metadata": {
    "slideshow": {
     "slide_type": "slide"
    }
   },
   "source": [
    "## Cell Magic %%"
   ]
  },
  {
   "cell_type": "markdown",
   "metadata": {
    "slideshow": {
     "slide_type": "slide"
    }
   },
   "source": [
    "### polyglottery"
   ]
  },
  {
   "cell_type": "code",
   "execution_count": null,
   "metadata": {
    "slideshow": {
     "slide_type": "fragment"
    }
   },
   "outputs": [],
   "source": [
    "%%bash"
   ]
  },
  {
   "cell_type": "code",
   "execution_count": null,
   "metadata": {
    "slideshow": {
     "slide_type": "fragment"
    }
   },
   "outputs": [],
   "source": [
    "%%rpy2"
   ]
  },
  {
   "cell_type": "code",
   "execution_count": null,
   "metadata": {
    "slideshow": {
     "slide_type": "fragment"
    }
   },
   "outputs": [],
   "source": [
    "%%cpp"
   ]
  },
  {
   "cell_type": "code",
   "execution_count": null,
   "metadata": {
    "slideshow": {
     "slide_type": "fragment"
    }
   },
   "outputs": [],
   "source": [
    "%%perl"
   ]
  },
  {
   "cell_type": "code",
   "execution_count": null,
   "metadata": {
    "slideshow": {
     "slide_type": "fragment"
    }
   },
   "outputs": [],
   "source": [
    "%%ruby"
   ]
  },
  {
   "cell_type": "code",
   "execution_count": null,
   "metadata": {
    "slideshow": {
     "slide_type": "fragment"
    }
   },
   "outputs": [],
   "source": [
    "%%fortran"
   ]
  },
  {
   "cell_type": "code",
   "execution_count": null,
   "metadata": {
    "hide_input": false,
    "slideshow": {
     "slide_type": "slide"
    }
   },
   "outputs": [],
   "source": [
    "%%latex\n",
    "\\begin{align}\\mu_{\\beta } \\leftarrow  \\frac{1}{m} \\sum_{i=1}^{m} x_{i}\\end{align}\n",
    "\\begin{align}\\sigma_{\\beta }^{2} \\leftarrow  \\frac{1}{m} \\sum_{i=1}^{m} (x_{i}-\\mu_{\\beta })^{2}\\end{align}\n",
    "\\begin{align}\\widehat{x_{i}} \\leftarrow \\frac{x_{i}-\\mu _{\\beta }}{\\sqrt{\\sigma _{\\beta }^{2}+\\varepsilon }}\\end{align}\n",
    "\\begin{align}y_{i} \\leftarrow \\gamma \\widehat{x_{i}}+\\beta \\equiv BN_{\\gamma ,\\beta }(x_{i})\\end{align}"
   ]
  },
  {
   "cell_type": "markdown",
   "metadata": {
    "slideshow": {
     "slide_type": "slide"
    }
   },
   "source": [
    "### more file handling "
   ]
  },
  {
   "cell_type": "code",
   "execution_count": null,
   "metadata": {
    "slideshow": {
     "slide_type": "fragment"
    }
   },
   "outputs": [],
   "source": [
    "%%writefile resources/simple.py\n",
    "\n",
    "def great_model():\n",
    "    print('your magic worked')\n",
    "\n",
    "if __name__ =='__main__':\n",
    "    great_model()"
   ]
  },
  {
   "cell_type": "code",
   "execution_count": null,
   "metadata": {
    "slideshow": {
     "slide_type": "fragment"
    }
   },
   "outputs": [],
   "source": [
    "%%sh\n",
    "ls\n",
    "python resources/simple.py"
   ]
  },
  {
   "cell_type": "markdown",
   "metadata": {
    "slideshow": {
     "slide_type": "slide"
    }
   },
   "source": [
    "## Look for magic "
   ]
  },
  {
   "cell_type": "code",
   "execution_count": null,
   "metadata": {
    "slideshow": {
     "slide_type": "fragment"
    }
   },
   "outputs": [],
   "source": [
    "!pip install watermark"
   ]
  },
  {
   "cell_type": "code",
   "execution_count": null,
   "metadata": {
    "slideshow": {
     "slide_type": "fragment"
    }
   },
   "outputs": [],
   "source": [
    "%reload_ext watermark\n",
    "%watermark"
   ]
  },
  {
   "cell_type": "markdown",
   "metadata": {
    "slideshow": {
     "slide_type": "slide"
    }
   },
   "source": [
    "## Create Magic "
   ]
  },
  {
   "cell_type": "code",
   "execution_count": null,
   "metadata": {
    "slideshow": {
     "slide_type": "subslide"
    }
   },
   "outputs": [],
   "source": [
    "# %load resources/plot_dir.py\n",
    "import os, glob\n",
    "import matplotlib.pyplot as plt\n",
    "from IPython.core.magic import Magics, magics_class, line_magic, cell_magic\n",
    "\n",
    "@magics_class\n",
    "class PlotDirMagic(Magics):\n",
    "    @line_magic('snapshot')\n",
    "    def plot_dir(self, line='', cell=''):  \n",
    "        path, nr = line.split(' ')\n",
    "        dir_path = os.path.join(os.getcwd(), path)\n",
    "        filepaths = glob.glob('{}/*'.format(dir_path))\n",
    "        \n",
    "        fig, axes = plt.subplots(1, int(nr), figsize=(16,12));\n",
    "        for ax,filepath in zip(axes, filepaths):\n",
    "            img = plt.imread(filepath)\n",
    "            ax.imshow(img);\n",
    "            ax.get_xaxis().set_visible(False)\n",
    "            ax.get_yaxis().set_visible(False)\n",
    "       \n",
    "def load_ipython_extension(ip):\n",
    "    ip.register_magics(PlotDirMagic)"
   ]
  },
  {
   "cell_type": "code",
   "execution_count": null,
   "metadata": {
    "slideshow": {
     "slide_type": "subslide"
    }
   },
   "outputs": [],
   "source": [
    "%load_ext resources.plot_dir\n",
    "\n",
    "%snapshot resources/img_dir 3"
   ]
  },
  {
   "cell_type": "markdown",
   "metadata": {
    "slideshow": {
     "slide_type": "slide"
    }
   },
   "source": [
    "# Interactive vis"
   ]
  },
  {
   "cell_type": "markdown",
   "metadata": {
    "slideshow": {
     "slide_type": "slide"
    }
   },
   "source": [
    "## widgets and interact"
   ]
  },
  {
   "cell_type": "code",
   "execution_count": null,
   "metadata": {
    "slideshow": {
     "slide_type": "subslide"
    }
   },
   "outputs": [],
   "source": [
    "import ipywidgets\n",
    "\n",
    "int_range_slider = ipywidgets.IntSlider(value=5, min=0, max=20, step=1)\n",
    "int_range_slider"
   ]
  },
  {
   "cell_type": "code",
   "execution_count": null,
   "metadata": {
    "slideshow": {
     "slide_type": "subslide"
    }
   },
   "outputs": [],
   "source": [
    "ipywidgets.FloatRangeSlider(value=[0, 1], min=0.0, max=1.0, step=0.05)"
   ]
  },
  {
   "cell_type": "code",
   "execution_count": null,
   "metadata": {
    "slideshow": {
     "slide_type": "subslide"
    }
   },
   "outputs": [],
   "source": [
    "ipywidgets.ToggleButtons(options=['Slow', 'Regular', 'Fast'])"
   ]
  },
  {
   "cell_type": "code",
   "execution_count": null,
   "metadata": {
    "slideshow": {
     "slide_type": "subslide"
    }
   },
   "outputs": [],
   "source": [
    "multiselect=ipywidgets.SelectMultiple(options=['col_{}'.format(i) for i in range(5)],                                      \n",
    "                                      value=['col_{}'.format(i) for i in range(5)])\n",
    "multiselect"
   ]
  },
  {
   "cell_type": "code",
   "execution_count": null,
   "metadata": {
    "slideshow": {
     "slide_type": "subslide"
    }
   },
   "outputs": [],
   "source": [
    "ipywidgets.Text(value='Input text')"
   ]
  },
  {
   "cell_type": "code",
   "execution_count": null,
   "metadata": {
    "slideshow": {
     "slide_type": "subslide"
    }
   },
   "outputs": [],
   "source": [
    "from ipywidgets import interact, fixed\n",
    "import pandas as pd\n",
    "import numpy as np\n",
    "\n",
    "def show_df(df, rows, columns):\n",
    "    tmp = df[list(columns)]\n",
    "    display(tmp.head(rows))\n",
    "\n",
    "table = pd.DataFrame(np.random.random((10,5)), columns=['col_{}'.format(i) for i in range(5)])"
   ]
  },
  {
   "cell_type": "code",
   "execution_count": null,
   "metadata": {
    "slideshow": {
     "slide_type": "subslide"
    }
   },
   "outputs": [],
   "source": [
    "interact(show_df, df=fixed(table), rows=int_range_slider, columns=multiselect);"
   ]
  },
  {
   "cell_type": "markdown",
   "metadata": {
    "slideshow": {
     "slide_type": "slide"
    }
   },
   "source": [
    "## qgrid\n",
    "```bash\n",
    "pip install qgrid\n",
    "```"
   ]
  },
  {
   "cell_type": "code",
   "execution_count": null,
   "metadata": {
    "slideshow": {
     "slide_type": "subslide"
    }
   },
   "outputs": [],
   "source": [
    "import qgrid\n",
    "\n",
    "qgrid.show_grid(table)"
   ]
  },
  {
   "cell_type": "markdown",
   "metadata": {
    "slideshow": {
     "slide_type": "slide"
    }
   },
   "source": [
    "## IPython displays"
   ]
  },
  {
   "cell_type": "code",
   "execution_count": null,
   "metadata": {
    "slideshow": {
     "slide_type": "subslide"
    }
   },
   "outputs": [],
   "source": [
    "from IPython.display import VimeoVideo\n",
    "VimeoVideo(\"138543647\", width=600,height=400)"
   ]
  },
  {
   "cell_type": "code",
   "execution_count": 1,
   "metadata": {
    "slideshow": {
     "slide_type": "subslide"
    }
   },
   "outputs": [
    {
     "data": {
      "text/html": [
       "<script type=\"text/javascript\" src=\"code.jquery.com/jquery-latest.min.js\"></script>\n",
       "\n",
       "<script>\n",
       "jQuery(document).ready(function(){\n",
       "\tvar native_width = 0;\n",
       "\tvar native_height = 0;\n",
       "  $(\".large\").css(\"background\",\"url('\" + $(\".small\").attr(\"src\") + \"') no-repeat\");\n",
       "\t$(\".magnify\").mousemove(function(e){\n",
       "\t\tif(!native_width && !native_height)\n",
       "\t\t{\n",
       "\t\t\tvar image_object = new Image();\n",
       "\t\t\timage_object.src = $(\".small\").attr(\"src\");\n",
       "\t\t\tnative_width = image_object.width;\n",
       "\t\t\tnative_height = image_object.height;\n",
       "\t\t}\n",
       "\t\telse\n",
       "\t\t{\n",
       "\t\t\tvar magnify_offset = $(this).offset();\n",
       "\t\t\tvar mx = e.pageX - magnify_offset.left;\n",
       "\t\t\tvar my = e.pageY - magnify_offset.top;\n",
       "\n",
       "\t\t\tif(mx < $(this).width() && my < $(this).height() && mx > 0 && my > 0)\n",
       "\t\t\t{\n",
       "\t\t\t\t$(\".large\").fadeIn(100);\n",
       "\t\t\t}\n",
       "\t\t\telse\n",
       "\t\t\t{\n",
       "\t\t\t\t$(\".large\").fadeOut(100);\n",
       "\t\t\t}\n",
       "\t\t\tif($(\".large\").is(\":visible\"))\n",
       "\t\t\t{\n",
       "\t\t\t\tvar rx = Math.round(mx/$(\".small\").width()*native_width - $(\".large\").width()/2)*-1;\n",
       "\t\t\t\tvar ry = Math.round(my/$(\".small\").height()*native_height - $(\".large\").height()/2)*-1;\n",
       "\t\t\t\tvar bgp = rx + \"px \" + ry + \"px\";\n",
       "\n",
       "\t\t\t\tvar px = mx - $(\".large\").width()/2;\n",
       "\t\t\t\tvar py = my - $(\".large\").height()/2;\n",
       "\t\t\t\t$(\".large\").css({left: px, top: py, backgroundPosition: bgp});\n",
       "\t\t\t}\n",
       "\t\t}\n",
       "\t})\n",
       "})\n",
       "</script>\n",
       "\n",
       "<style>\n",
       "* {margin: 0; padding: 0;}\n",
       ".magnify {width: 400px; margin: 50px auto; position: relative; cursor: none}\n",
       ".large {\n",
       "\twidth: 200px; height: 200px;\n",
       "\tposition: absolute;\n",
       "\tborder-radius: 100%;\n",
       "\n",
       "\tbox-shadow: 0 0 0 7px rgba(255, 255, 255, 0.85),\n",
       "\t0 0 7px 7px rgba(0, 0, 0, 0.25),\n",
       "\tinset 0 0 40px 2px rgba(0, 0, 0, 0.25);\n",
       "\n",
       "\tdisplay: none;\n",
       "}\n",
       ".small { display: block; }\n",
       "</style>\n",
       "\n",
       "<div class=\"magnify\">\n",
       "<div class=\"large\"></div>\n",
       "<img class=\"small\" src=\"resources/img_dir/potato.jpeg\" width=\"200\"/>\n",
       "</div>\n",
       "    "
      ],
      "text/plain": [
       "<IPython.core.display.HTML object>"
      ]
     },
     "metadata": {},
     "output_type": "display_data"
    }
   ],
   "source": [
    "from resources.microscope import plot_html_microscope\n",
    "plot_html_microscope('resources/img_dir/potato.jpeg')"
   ]
  },
  {
   "cell_type": "code",
   "execution_count": null,
   "metadata": {
    "slideshow": {
     "slide_type": "subslide"
    }
   },
   "outputs": [],
   "source": [
    "from IPython.display import HTML\n",
    "HTML('<iframe src=\"resources/gan_paper.pdf\" width=800 height=400></iframe>')"
   ]
  },
  {
   "cell_type": "code",
   "execution_count": null,
   "metadata": {
    "slideshow": {
     "slide_type": "subslide"
    }
   },
   "outputs": [],
   "source": [
    "from IPython.display import HTML\n",
    "HTML('<iframe src=\"https://cartan.neptune.ml/#dashboard/job/3fb85ae9-5aa0-4ddf-80fe-12d98a505f97\" width=800 height=400></iframe>')"
   ]
  },
  {
   "cell_type": "markdown",
   "metadata": {
    "slideshow": {
     "slide_type": "slide"
    }
   },
   "source": [
    "## bokeh\n",
    "\n",
    "https://bokeh.pydata.org/en/latest/\n",
    "\n",
    "![query](resources/pics/bokeh.png)"
   ]
  },
  {
   "cell_type": "code",
   "execution_count": null,
   "metadata": {
    "slideshow": {
     "slide_type": "subslide"
    }
   },
   "outputs": [],
   "source": [
    "from bokeh.io import output_notebook, show\n",
    "from resources.bokeh_example import periodic_table\n",
    "pt = periodic_table()\n",
    "output_notebook()\n",
    "show(pt, notebook_handle=True);"
   ]
  },
  {
   "cell_type": "markdown",
   "metadata": {
    "slideshow": {
     "slide_type": "slide"
    }
   },
   "source": [
    "# Thank **You** and **everyone** who:\n",
    "## - helped\n",
    "## - shared knowledge\n",
    "## - inspired"
   ]
  }
 ],
 "metadata": {
  "celltoolbar": "Slideshow",
  "kernelspec": {
   "display_name": "awesome_notebooks",
   "language": "python",
   "name": "env_jp_nb"
  },
  "language_info": {
   "codemirror_mode": {
    "name": "ipython",
    "version": 3
   },
   "file_extension": ".py",
   "mimetype": "text/x-python",
   "name": "python",
   "nbconvert_exporter": "python",
   "pygments_lexer": "ipython3",
   "version": "3.5.2"
  },
  "toc": {
   "colors": {
    "hover_highlight": "#DAA520",
    "running_highlight": "#FF0000",
    "selected_highlight": "#FFD700"
   },
   "moveMenuLeft": true,
   "nav_menu": {
    "height": "4px",
    "width": "254px"
   },
   "navigate_menu": true,
   "number_sections": false,
   "sideBar": true,
   "threshold": 4,
   "toc_cell": false,
   "toc_section_display": "block",
   "toc_window_display": false
  }
 },
 "nbformat": 4,
 "nbformat_minor": 2
}
